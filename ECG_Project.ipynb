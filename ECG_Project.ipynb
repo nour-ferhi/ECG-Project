{
 "cells": [
  {
   "cell_type": "code",
   "execution_count": 15,
   "id": "6d147730-5fe3-4be2-b5e6-db224388a66b",
   "metadata": {},
   "outputs": [],
   "source": [
    "import numpy as np\n",
    "import pandas as pd\n",
    "import seaborn as sns\n",
    "import matplotlib.pyplot as plt\n",
    "\n",
    "# Classical Machine Learning Libraries\n",
    "from sklearn.tree import DecisionTreeClassifier\n",
    "from sklearn.ensemble import RandomForestClassifier\n",
    "from sklearn.svm import SVC\n",
    "\n",
    "# Deep Learning Library\n",
    "from tensorflow import keras  # Assuming TensorFlow backend for Keras\n",
    "\n",
    "# Other Necessary Libraries\n",
    "from sklearn.model_selection import train_test_split\n",
    "from sklearn.metrics import classification_report, f1_score, confusion_matrix\n",
    "from keras.utils import to_categorical\n",
    "from sklearn.utils import class_weight\n"
   ]
  },
  {
   "cell_type": "markdown",
   "id": "366adef6-9f08-4609-8876-6e9d64b0b1be",
   "metadata": {},
   "source": [
    "## Load Data"
   ]
  },
  {
   "cell_type": "code",
   "execution_count": 18,
   "id": "5564a56a-f6e6-4df1-b509-fa5855a42b87",
   "metadata": {},
   "outputs": [],
   "source": [
    "train_df = pd.read_csv('E:\\\\Learn Data Science\\\\cardiac diagnostic\\\\dataset\\\\train.csv',header=None)\n",
    "test_df = pd.read_csv('E:\\\\Learn Data Science\\\\cardiac diagnostic\\\\dataset\\\\test.csv',header=None)"
   ]
  },
  {
   "cell_type": "markdown",
   "id": "94cb1cd7-b95f-4bce-9da5-ccf32cea54fa",
   "metadata": {},
   "source": [
    "## Explore Data"
   ]
  },
  {
   "cell_type": "code",
   "execution_count": 19,
   "id": "0c35a796-ace1-451d-b370-3de8b85d41fc",
   "metadata": {},
   "outputs": [
    {
     "data": {
      "text/html": [
       "<div>\n",
       "<style scoped>\n",
       "    .dataframe tbody tr th:only-of-type {\n",
       "        vertical-align: middle;\n",
       "    }\n",
       "\n",
       "    .dataframe tbody tr th {\n",
       "        vertical-align: top;\n",
       "    }\n",
       "\n",
       "    .dataframe thead th {\n",
       "        text-align: right;\n",
       "    }\n",
       "</style>\n",
       "<table border=\"1\" class=\"dataframe\">\n",
       "  <thead>\n",
       "    <tr style=\"text-align: right;\">\n",
       "      <th></th>\n",
       "      <th>0</th>\n",
       "      <th>1</th>\n",
       "      <th>2</th>\n",
       "      <th>3</th>\n",
       "      <th>4</th>\n",
       "      <th>5</th>\n",
       "      <th>6</th>\n",
       "      <th>7</th>\n",
       "      <th>8</th>\n",
       "      <th>9</th>\n",
       "      <th>...</th>\n",
       "      <th>178</th>\n",
       "      <th>179</th>\n",
       "      <th>180</th>\n",
       "      <th>181</th>\n",
       "      <th>182</th>\n",
       "      <th>183</th>\n",
       "      <th>184</th>\n",
       "      <th>185</th>\n",
       "      <th>186</th>\n",
       "      <th>187</th>\n",
       "    </tr>\n",
       "  </thead>\n",
       "  <tbody>\n",
       "    <tr>\n",
       "      <th>0</th>\n",
       "      <td>0.977941</td>\n",
       "      <td>0.926471</td>\n",
       "      <td>0.681373</td>\n",
       "      <td>0.245098</td>\n",
       "      <td>0.154412</td>\n",
       "      <td>0.191176</td>\n",
       "      <td>0.151961</td>\n",
       "      <td>0.085784</td>\n",
       "      <td>0.058824</td>\n",
       "      <td>0.049020</td>\n",
       "      <td>...</td>\n",
       "      <td>0.0</td>\n",
       "      <td>0.0</td>\n",
       "      <td>0.0</td>\n",
       "      <td>0.0</td>\n",
       "      <td>0.0</td>\n",
       "      <td>0.0</td>\n",
       "      <td>0.0</td>\n",
       "      <td>0.0</td>\n",
       "      <td>0.0</td>\n",
       "      <td>0.0</td>\n",
       "    </tr>\n",
       "    <tr>\n",
       "      <th>1</th>\n",
       "      <td>0.960114</td>\n",
       "      <td>0.863248</td>\n",
       "      <td>0.461538</td>\n",
       "      <td>0.196581</td>\n",
       "      <td>0.094017</td>\n",
       "      <td>0.125356</td>\n",
       "      <td>0.099715</td>\n",
       "      <td>0.088319</td>\n",
       "      <td>0.074074</td>\n",
       "      <td>0.082621</td>\n",
       "      <td>...</td>\n",
       "      <td>0.0</td>\n",
       "      <td>0.0</td>\n",
       "      <td>0.0</td>\n",
       "      <td>0.0</td>\n",
       "      <td>0.0</td>\n",
       "      <td>0.0</td>\n",
       "      <td>0.0</td>\n",
       "      <td>0.0</td>\n",
       "      <td>0.0</td>\n",
       "      <td>0.0</td>\n",
       "    </tr>\n",
       "    <tr>\n",
       "      <th>2</th>\n",
       "      <td>1.000000</td>\n",
       "      <td>0.659459</td>\n",
       "      <td>0.186486</td>\n",
       "      <td>0.070270</td>\n",
       "      <td>0.070270</td>\n",
       "      <td>0.059459</td>\n",
       "      <td>0.056757</td>\n",
       "      <td>0.043243</td>\n",
       "      <td>0.054054</td>\n",
       "      <td>0.045946</td>\n",
       "      <td>...</td>\n",
       "      <td>0.0</td>\n",
       "      <td>0.0</td>\n",
       "      <td>0.0</td>\n",
       "      <td>0.0</td>\n",
       "      <td>0.0</td>\n",
       "      <td>0.0</td>\n",
       "      <td>0.0</td>\n",
       "      <td>0.0</td>\n",
       "      <td>0.0</td>\n",
       "      <td>0.0</td>\n",
       "    </tr>\n",
       "    <tr>\n",
       "      <th>3</th>\n",
       "      <td>0.925414</td>\n",
       "      <td>0.665746</td>\n",
       "      <td>0.541436</td>\n",
       "      <td>0.276243</td>\n",
       "      <td>0.196133</td>\n",
       "      <td>0.077348</td>\n",
       "      <td>0.071823</td>\n",
       "      <td>0.060773</td>\n",
       "      <td>0.066298</td>\n",
       "      <td>0.058011</td>\n",
       "      <td>...</td>\n",
       "      <td>0.0</td>\n",
       "      <td>0.0</td>\n",
       "      <td>0.0</td>\n",
       "      <td>0.0</td>\n",
       "      <td>0.0</td>\n",
       "      <td>0.0</td>\n",
       "      <td>0.0</td>\n",
       "      <td>0.0</td>\n",
       "      <td>0.0</td>\n",
       "      <td>0.0</td>\n",
       "    </tr>\n",
       "    <tr>\n",
       "      <th>4</th>\n",
       "      <td>0.967136</td>\n",
       "      <td>1.000000</td>\n",
       "      <td>0.830986</td>\n",
       "      <td>0.586854</td>\n",
       "      <td>0.356808</td>\n",
       "      <td>0.248826</td>\n",
       "      <td>0.145540</td>\n",
       "      <td>0.089202</td>\n",
       "      <td>0.117371</td>\n",
       "      <td>0.150235</td>\n",
       "      <td>...</td>\n",
       "      <td>0.0</td>\n",
       "      <td>0.0</td>\n",
       "      <td>0.0</td>\n",
       "      <td>0.0</td>\n",
       "      <td>0.0</td>\n",
       "      <td>0.0</td>\n",
       "      <td>0.0</td>\n",
       "      <td>0.0</td>\n",
       "      <td>0.0</td>\n",
       "      <td>0.0</td>\n",
       "    </tr>\n",
       "  </tbody>\n",
       "</table>\n",
       "<p>5 rows × 188 columns</p>\n",
       "</div>"
      ],
      "text/plain": [
       "        0         1         2         3         4         5         6    \\\n",
       "0  0.977941  0.926471  0.681373  0.245098  0.154412  0.191176  0.151961   \n",
       "1  0.960114  0.863248  0.461538  0.196581  0.094017  0.125356  0.099715   \n",
       "2  1.000000  0.659459  0.186486  0.070270  0.070270  0.059459  0.056757   \n",
       "3  0.925414  0.665746  0.541436  0.276243  0.196133  0.077348  0.071823   \n",
       "4  0.967136  1.000000  0.830986  0.586854  0.356808  0.248826  0.145540   \n",
       "\n",
       "        7         8         9    ...  178  179  180  181  182  183  184  185  \\\n",
       "0  0.085784  0.058824  0.049020  ...  0.0  0.0  0.0  0.0  0.0  0.0  0.0  0.0   \n",
       "1  0.088319  0.074074  0.082621  ...  0.0  0.0  0.0  0.0  0.0  0.0  0.0  0.0   \n",
       "2  0.043243  0.054054  0.045946  ...  0.0  0.0  0.0  0.0  0.0  0.0  0.0  0.0   \n",
       "3  0.060773  0.066298  0.058011  ...  0.0  0.0  0.0  0.0  0.0  0.0  0.0  0.0   \n",
       "4  0.089202  0.117371  0.150235  ...  0.0  0.0  0.0  0.0  0.0  0.0  0.0  0.0   \n",
       "\n",
       "   186  187  \n",
       "0  0.0  0.0  \n",
       "1  0.0  0.0  \n",
       "2  0.0  0.0  \n",
       "3  0.0  0.0  \n",
       "4  0.0  0.0  \n",
       "\n",
       "[5 rows x 188 columns]"
      ]
     },
     "execution_count": 19,
     "metadata": {},
     "output_type": "execute_result"
    }
   ],
   "source": [
    "train_df.head()"
   ]
  },
  {
   "cell_type": "code",
   "execution_count": 20,
   "id": "288c7143-4144-45f9-9f41-ed4e7d2f3e96",
   "metadata": {},
   "outputs": [
    {
     "name": "stdout",
     "output_type": "stream",
     "text": [
      "<class 'pandas.core.frame.DataFrame'>\n",
      "RangeIndex: 87554 entries, 0 to 87553\n",
      "Columns: 188 entries, 0 to 187\n",
      "dtypes: float64(188)\n",
      "memory usage: 125.6 MB\n"
     ]
    }
   ],
   "source": [
    "train_df.info()"
   ]
  },
  {
   "cell_type": "code",
   "execution_count": 21,
   "id": "f2fab260-bc7c-4877-950a-e62aa9e408cb",
   "metadata": {},
   "outputs": [
    {
     "name": "stdout",
     "output_type": "stream",
     "text": [
      "0      0\n",
      "1      0\n",
      "2      0\n",
      "3      0\n",
      "4      0\n",
      "      ..\n",
      "183    0\n",
      "184    0\n",
      "185    0\n",
      "186    0\n",
      "187    0\n",
      "Length: 188, dtype: int64\n"
     ]
    }
   ],
   "source": [
    "missing_values = train_df.isnull().sum()\n",
    "print(missing_values)"
   ]
  },
  {
   "cell_type": "code",
   "execution_count": 23,
   "id": "74101e41-db85-4a13-bfe0-7ca87ce2b7ba",
   "metadata": {},
   "outputs": [
    {
     "name": "stdout",
     "output_type": "stream",
     "text": [
      "187\n",
      "0.0    72471\n",
      "4.0     6431\n",
      "2.0     5788\n",
      "1.0     2223\n",
      "3.0      641\n",
      "Name: count, dtype: int64\n"
     ]
    }
   ],
   "source": [
    "label_counts = train_df[187].value_counts()\n",
    "print(label_counts)"
   ]
  },
  {
   "cell_type": "markdown",
   "id": "01a64aec-7d50-4c44-bb6d-8c77b2193e0b",
   "metadata": {},
   "source": [
    "### Rename Last column class "
   ]
  },
  {
   "cell_type": "code",
   "execution_count": 24,
   "id": "ac732116-febf-4d6c-bd72-127ae1cacb9e",
   "metadata": {},
   "outputs": [
    {
     "name": "stdout",
     "output_type": "stream",
     "text": [
      "Class label 0.0: Normal Beats\n",
      "Class label 1.0: Supraventricular Ectopy Beats\n",
      "Class label 2.0: Ventricular Ectopy Beats\n",
      "Class label 3.0: Fusion Beats\n",
      "Class label 4.0: Unclassifiable Beats\n"
     ]
    }
   ],
   "source": [
    "\n",
    "target_column_index = train_df.shape[1] - 1\n",
    "\n",
    "class_labels = train_df[target_column_index].unique()\n",
    "\n",
    "class_names = {\n",
    "    0: \"Normal Beats\",\n",
    "    1: \"Supraventricular Ectopy Beats\",\n",
    "    2: \"Ventricular Ectopy Beats\",\n",
    "    3: \"Fusion Beats\",\n",
    "    4: \"Unclassifiable Beats\"\n",
    "}\n",
    "\n",
    "for label in class_labels:\n",
    "    print(f\"Class label {label}: {class_names[label]}\")"
   ]
  },
  {
   "cell_type": "markdown",
   "id": "059e82cb-939b-4635-8dfb-72fe78ff9f25",
   "metadata": {},
   "source": [
    "### Describe"
   ]
  },
  {
   "cell_type": "code",
   "execution_count": 26,
   "id": "806bee10-80c4-4c3a-bb99-859b862f3b0b",
   "metadata": {},
   "outputs": [
    {
     "data": {
      "text/html": [
       "<div>\n",
       "<style scoped>\n",
       "    .dataframe tbody tr th:only-of-type {\n",
       "        vertical-align: middle;\n",
       "    }\n",
       "\n",
       "    .dataframe tbody tr th {\n",
       "        vertical-align: top;\n",
       "    }\n",
       "\n",
       "    .dataframe thead th {\n",
       "        text-align: right;\n",
       "    }\n",
       "</style>\n",
       "<table border=\"1\" class=\"dataframe\">\n",
       "  <thead>\n",
       "    <tr style=\"text-align: right;\">\n",
       "      <th></th>\n",
       "      <th>0</th>\n",
       "      <th>1</th>\n",
       "      <th>2</th>\n",
       "      <th>3</th>\n",
       "      <th>4</th>\n",
       "      <th>5</th>\n",
       "      <th>6</th>\n",
       "      <th>7</th>\n",
       "      <th>8</th>\n",
       "      <th>9</th>\n",
       "      <th>...</th>\n",
       "      <th>178</th>\n",
       "      <th>179</th>\n",
       "      <th>180</th>\n",
       "      <th>181</th>\n",
       "      <th>182</th>\n",
       "      <th>183</th>\n",
       "      <th>184</th>\n",
       "      <th>185</th>\n",
       "      <th>186</th>\n",
       "      <th>187</th>\n",
       "    </tr>\n",
       "  </thead>\n",
       "  <tbody>\n",
       "    <tr>\n",
       "      <th>count</th>\n",
       "      <td>87554.000000</td>\n",
       "      <td>87554.000000</td>\n",
       "      <td>87554.000000</td>\n",
       "      <td>87554.000000</td>\n",
       "      <td>87554.000000</td>\n",
       "      <td>87554.000000</td>\n",
       "      <td>87554.000000</td>\n",
       "      <td>87554.000000</td>\n",
       "      <td>87554.000000</td>\n",
       "      <td>87554.000000</td>\n",
       "      <td>...</td>\n",
       "      <td>87554.000000</td>\n",
       "      <td>87554.000000</td>\n",
       "      <td>87554.000000</td>\n",
       "      <td>87554.000000</td>\n",
       "      <td>87554.000000</td>\n",
       "      <td>87554.000000</td>\n",
       "      <td>87554.000000</td>\n",
       "      <td>87554.000000</td>\n",
       "      <td>87554.000000</td>\n",
       "      <td>87554.000000</td>\n",
       "    </tr>\n",
       "    <tr>\n",
       "      <th>mean</th>\n",
       "      <td>0.890360</td>\n",
       "      <td>0.758160</td>\n",
       "      <td>0.423972</td>\n",
       "      <td>0.219104</td>\n",
       "      <td>0.201127</td>\n",
       "      <td>0.210399</td>\n",
       "      <td>0.205808</td>\n",
       "      <td>0.201773</td>\n",
       "      <td>0.198691</td>\n",
       "      <td>0.196757</td>\n",
       "      <td>...</td>\n",
       "      <td>0.005025</td>\n",
       "      <td>0.004628</td>\n",
       "      <td>0.004291</td>\n",
       "      <td>0.003945</td>\n",
       "      <td>0.003681</td>\n",
       "      <td>0.003471</td>\n",
       "      <td>0.003221</td>\n",
       "      <td>0.002945</td>\n",
       "      <td>0.002807</td>\n",
       "      <td>0.473376</td>\n",
       "    </tr>\n",
       "    <tr>\n",
       "      <th>std</th>\n",
       "      <td>0.240909</td>\n",
       "      <td>0.221813</td>\n",
       "      <td>0.227305</td>\n",
       "      <td>0.206878</td>\n",
       "      <td>0.177058</td>\n",
       "      <td>0.171909</td>\n",
       "      <td>0.178481</td>\n",
       "      <td>0.177240</td>\n",
       "      <td>0.171778</td>\n",
       "      <td>0.168357</td>\n",
       "      <td>...</td>\n",
       "      <td>0.044154</td>\n",
       "      <td>0.042089</td>\n",
       "      <td>0.040525</td>\n",
       "      <td>0.038651</td>\n",
       "      <td>0.037193</td>\n",
       "      <td>0.036255</td>\n",
       "      <td>0.034789</td>\n",
       "      <td>0.032865</td>\n",
       "      <td>0.031924</td>\n",
       "      <td>1.143184</td>\n",
       "    </tr>\n",
       "    <tr>\n",
       "      <th>min</th>\n",
       "      <td>0.000000</td>\n",
       "      <td>0.000000</td>\n",
       "      <td>0.000000</td>\n",
       "      <td>0.000000</td>\n",
       "      <td>0.000000</td>\n",
       "      <td>0.000000</td>\n",
       "      <td>0.000000</td>\n",
       "      <td>0.000000</td>\n",
       "      <td>0.000000</td>\n",
       "      <td>0.000000</td>\n",
       "      <td>...</td>\n",
       "      <td>0.000000</td>\n",
       "      <td>0.000000</td>\n",
       "      <td>0.000000</td>\n",
       "      <td>0.000000</td>\n",
       "      <td>0.000000</td>\n",
       "      <td>0.000000</td>\n",
       "      <td>0.000000</td>\n",
       "      <td>0.000000</td>\n",
       "      <td>0.000000</td>\n",
       "      <td>0.000000</td>\n",
       "    </tr>\n",
       "    <tr>\n",
       "      <th>25%</th>\n",
       "      <td>0.921922</td>\n",
       "      <td>0.682486</td>\n",
       "      <td>0.250969</td>\n",
       "      <td>0.048458</td>\n",
       "      <td>0.082329</td>\n",
       "      <td>0.088416</td>\n",
       "      <td>0.073333</td>\n",
       "      <td>0.066116</td>\n",
       "      <td>0.065000</td>\n",
       "      <td>0.068639</td>\n",
       "      <td>...</td>\n",
       "      <td>0.000000</td>\n",
       "      <td>0.000000</td>\n",
       "      <td>0.000000</td>\n",
       "      <td>0.000000</td>\n",
       "      <td>0.000000</td>\n",
       "      <td>0.000000</td>\n",
       "      <td>0.000000</td>\n",
       "      <td>0.000000</td>\n",
       "      <td>0.000000</td>\n",
       "      <td>0.000000</td>\n",
       "    </tr>\n",
       "    <tr>\n",
       "      <th>50%</th>\n",
       "      <td>0.991342</td>\n",
       "      <td>0.826013</td>\n",
       "      <td>0.429472</td>\n",
       "      <td>0.166000</td>\n",
       "      <td>0.147878</td>\n",
       "      <td>0.158798</td>\n",
       "      <td>0.145324</td>\n",
       "      <td>0.144424</td>\n",
       "      <td>0.150000</td>\n",
       "      <td>0.148734</td>\n",
       "      <td>...</td>\n",
       "      <td>0.000000</td>\n",
       "      <td>0.000000</td>\n",
       "      <td>0.000000</td>\n",
       "      <td>0.000000</td>\n",
       "      <td>0.000000</td>\n",
       "      <td>0.000000</td>\n",
       "      <td>0.000000</td>\n",
       "      <td>0.000000</td>\n",
       "      <td>0.000000</td>\n",
       "      <td>0.000000</td>\n",
       "    </tr>\n",
       "    <tr>\n",
       "      <th>75%</th>\n",
       "      <td>1.000000</td>\n",
       "      <td>0.910506</td>\n",
       "      <td>0.578767</td>\n",
       "      <td>0.341727</td>\n",
       "      <td>0.258993</td>\n",
       "      <td>0.287628</td>\n",
       "      <td>0.298237</td>\n",
       "      <td>0.295391</td>\n",
       "      <td>0.290832</td>\n",
       "      <td>0.283636</td>\n",
       "      <td>...</td>\n",
       "      <td>0.000000</td>\n",
       "      <td>0.000000</td>\n",
       "      <td>0.000000</td>\n",
       "      <td>0.000000</td>\n",
       "      <td>0.000000</td>\n",
       "      <td>0.000000</td>\n",
       "      <td>0.000000</td>\n",
       "      <td>0.000000</td>\n",
       "      <td>0.000000</td>\n",
       "      <td>0.000000</td>\n",
       "    </tr>\n",
       "    <tr>\n",
       "      <th>max</th>\n",
       "      <td>1.000000</td>\n",
       "      <td>1.000000</td>\n",
       "      <td>1.000000</td>\n",
       "      <td>1.000000</td>\n",
       "      <td>1.000000</td>\n",
       "      <td>1.000000</td>\n",
       "      <td>1.000000</td>\n",
       "      <td>1.000000</td>\n",
       "      <td>1.000000</td>\n",
       "      <td>1.000000</td>\n",
       "      <td>...</td>\n",
       "      <td>1.000000</td>\n",
       "      <td>1.000000</td>\n",
       "      <td>1.000000</td>\n",
       "      <td>1.000000</td>\n",
       "      <td>1.000000</td>\n",
       "      <td>1.000000</td>\n",
       "      <td>1.000000</td>\n",
       "      <td>1.000000</td>\n",
       "      <td>1.000000</td>\n",
       "      <td>4.000000</td>\n",
       "    </tr>\n",
       "  </tbody>\n",
       "</table>\n",
       "<p>8 rows × 188 columns</p>\n",
       "</div>"
      ],
      "text/plain": [
       "                0             1             2             3             4    \\\n",
       "count  87554.000000  87554.000000  87554.000000  87554.000000  87554.000000   \n",
       "mean       0.890360      0.758160      0.423972      0.219104      0.201127   \n",
       "std        0.240909      0.221813      0.227305      0.206878      0.177058   \n",
       "min        0.000000      0.000000      0.000000      0.000000      0.000000   \n",
       "25%        0.921922      0.682486      0.250969      0.048458      0.082329   \n",
       "50%        0.991342      0.826013      0.429472      0.166000      0.147878   \n",
       "75%        1.000000      0.910506      0.578767      0.341727      0.258993   \n",
       "max        1.000000      1.000000      1.000000      1.000000      1.000000   \n",
       "\n",
       "                5             6             7             8             9    \\\n",
       "count  87554.000000  87554.000000  87554.000000  87554.000000  87554.000000   \n",
       "mean       0.210399      0.205808      0.201773      0.198691      0.196757   \n",
       "std        0.171909      0.178481      0.177240      0.171778      0.168357   \n",
       "min        0.000000      0.000000      0.000000      0.000000      0.000000   \n",
       "25%        0.088416      0.073333      0.066116      0.065000      0.068639   \n",
       "50%        0.158798      0.145324      0.144424      0.150000      0.148734   \n",
       "75%        0.287628      0.298237      0.295391      0.290832      0.283636   \n",
       "max        1.000000      1.000000      1.000000      1.000000      1.000000   \n",
       "\n",
       "       ...           178           179           180           181  \\\n",
       "count  ...  87554.000000  87554.000000  87554.000000  87554.000000   \n",
       "mean   ...      0.005025      0.004628      0.004291      0.003945   \n",
       "std    ...      0.044154      0.042089      0.040525      0.038651   \n",
       "min    ...      0.000000      0.000000      0.000000      0.000000   \n",
       "25%    ...      0.000000      0.000000      0.000000      0.000000   \n",
       "50%    ...      0.000000      0.000000      0.000000      0.000000   \n",
       "75%    ...      0.000000      0.000000      0.000000      0.000000   \n",
       "max    ...      1.000000      1.000000      1.000000      1.000000   \n",
       "\n",
       "                182           183           184           185           186  \\\n",
       "count  87554.000000  87554.000000  87554.000000  87554.000000  87554.000000   \n",
       "mean       0.003681      0.003471      0.003221      0.002945      0.002807   \n",
       "std        0.037193      0.036255      0.034789      0.032865      0.031924   \n",
       "min        0.000000      0.000000      0.000000      0.000000      0.000000   \n",
       "25%        0.000000      0.000000      0.000000      0.000000      0.000000   \n",
       "50%        0.000000      0.000000      0.000000      0.000000      0.000000   \n",
       "75%        0.000000      0.000000      0.000000      0.000000      0.000000   \n",
       "max        1.000000      1.000000      1.000000      1.000000      1.000000   \n",
       "\n",
       "                187  \n",
       "count  87554.000000  \n",
       "mean       0.473376  \n",
       "std        1.143184  \n",
       "min        0.000000  \n",
       "25%        0.000000  \n",
       "50%        0.000000  \n",
       "75%        0.000000  \n",
       "max        4.000000  \n",
       "\n",
       "[8 rows x 188 columns]"
      ]
     },
     "execution_count": 26,
     "metadata": {},
     "output_type": "execute_result"
    }
   ],
   "source": [
    "train_df.describe()"
   ]
  },
  {
   "cell_type": "code",
   "execution_count": 29,
   "id": "9f801b90-4c87-4eb8-9ef2-79022f29cd90",
   "metadata": {},
   "outputs": [
    {
     "name": "stdout",
     "output_type": "stream",
     "text": [
      "187\n",
      "0.0    72471\n",
      "4.0     6431\n",
      "2.0     5788\n",
      "1.0     2223\n",
      "3.0      641\n",
      "Name: count, dtype: int64\n"
     ]
    }
   ],
   "source": [
    "train_df[187]=train_df[187].astype(float)\n",
    "equilibre = train_df[187].value_counts()\n",
    "print(equilibre)"
   ]
  },
  {
   "cell_type": "code",
   "execution_count": 30,
   "id": "a7ab3644-942d-4765-90b6-4d1d8b92bff1",
   "metadata": {},
   "outputs": [
    {
     "name": "stdout",
     "output_type": "stream",
     "text": [
      "187\n",
      "0.0    18118\n",
      "4.0     1608\n",
      "2.0     1448\n",
      "1.0      556\n",
      "3.0      162\n",
      "Name: count, dtype: int64\n"
     ]
    }
   ],
   "source": [
    "test_df[187]=test_df[187].astype(float)\n",
    "equilibre = test_df[187].value_counts()\n",
    "print(equilibre)"
   ]
  },
  {
   "cell_type": "markdown",
   "id": "39e07c74-38d2-4414-ab09-d8da27b67a7c",
   "metadata": {},
   "source": [
    "### every class with its perecentages"
   ]
  },
  {
   "cell_type": "code",
   "execution_count": 36,
   "id": "86a8c992-6941-4fc1-877f-938a38758257",
   "metadata": {},
   "outputs": [
    {
     "data": {
      "image/png": "[encoded data removed]",
      "text/plain": [
       "<Figure size 1500x800 with 1 Axes>"
      ]
     },
     "metadata": {},
     "output_type": "display_data"
    }
   ],
   "source": [
    "plt.figure(figsize=(15,8))\n",
    "my_circle=plt.Circle( (0,0), 0.7, color='white')\n",
    "plt.pie(equilibre, labels=['Normal Beats','Supraventricular Ectopy Beats','Ventricular Ectopy Beats','Fusion Beats','Unclassifiable Beats'], colors=['Blue','Green','Yellow','Skyblue','Orange'],autopct='%1.1f%%', textprops={'color': 'black'})\n",
    "p=plt.gcf()\n",
    "p.gca().add_artist(my_circle)\n",
    "plt.show()"
   ]
  },
  {
   "cell_type": "markdown",
   "id": "9a886420-c023-4c81-959b-8dbba29b9fa5",
   "metadata": {},
   "source": [
    "### Resample the training data to 20000 samples each class to make it more balance to work in it"
   ]
  },
  {
   "cell_type": "code",
   "execution_count": 37,
   "id": "333a39cb-55d6-42f0-80e3-51bda94342c9",
   "metadata": {},
   "outputs": [],
   "source": [
    "df_1 = train_df[train_df[187] == 1]\n",
    "df_2 = train_df[train_df[187] == 2]\n",
    "df_3 = train_df[train_df[187] == 3]\n",
    "df_4 = train_df[train_df[187] == 4]"
   ]
  },
  {
   "cell_type": "code",
   "execution_count": 38,
   "id": "5589601a-4531-4419-a2cc-21ec1ba2ca9e",
   "metadata": {},
   "outputs": [],
   "source": [
    "from sklearn.utils import resample\n",
    "\n",
    "df_1_upsample = resample(df_1, n_samples = 20000, replace = True, random_state = 123)\n",
    "df_2_upsample = resample(df_2, n_samples = 20000, replace = True, random_state = 123)\n",
    "df_3_upsample = resample(df_3, n_samples = 20000, replace = True, random_state = 123)\n",
    "df_4_upsample = resample(df_4, n_samples = 20000, replace = True, random_state = 123)\n",
    "df_0 = train_df[train_df[187]==0].sample(n =20000, random_state=123)\n",
    "train_df = pd.concat([df_0, df_1_upsample, df_2_upsample, df_3_upsample, df_4_upsample])"
   ]
  },
  {
   "cell_type": "markdown",
   "id": "40b52883-0f2e-4ad9-a88a-3a970ff5fe1d",
   "metadata": {},
   "source": [
    "### After Resampling"
   ]
  },
  {
   "cell_type": "code",
   "execution_count": 39,
   "id": "4edb65d7-496c-4739-9ec4-79c471993e4c",
   "metadata": {},
   "outputs": [
    {
     "data": {
      "image/png": "[encoded data removed]",
      "text/plain": [
       "<Figure size 1000x1000 with 1 Axes>"
      ]
     },
     "metadata": {},
     "output_type": "display_data"
    }
   ],
   "source": [
    "plt.figure(figsize= (10,10))\n",
    "my_circle = plt.Circle((0,0), 0.7, color = 'white') \n",
    "plt.pie(train_df[187].value_counts(), labels=['Normal Beats','Supraventricular Ectopy Beats','Ventricular Ectopy Beats','Fusion Beats','Unclassifiable Beats'], autopct = '%0.0f%%', colors = ['red','orange','blue','magenta','cyan'])\n",
    "p = plt.gcf()\n",
    "p.gca().add_artist(my_circle)\n",
    "plt.show()"
   ]
  },
  {
   "cell_type": "code",
   "execution_count": 40,
   "id": "223b7766-d0be-430b-b843-e96e6daa0920",
   "metadata": {},
   "outputs": [
    {
     "name": "stdout",
     "output_type": "stream",
     "text": [
      "187\n",
      "0.0    20000\n",
      "1.0    20000\n",
      "2.0    20000\n",
      "3.0    20000\n",
      "4.0    20000\n",
      "Name: count, dtype: int64\n",
      "5\n"
     ]
    }
   ],
   "source": [
    "print(train_df[187].value_counts())\n",
    "print(len(train_df[187].value_counts()))"
   ]
  },
  {
   "cell_type": "markdown",
   "id": "a9c9d71c-2602-4d97-8826-3fcf022192ee",
   "metadata": {},
   "source": [
    "### Resample the testing data"
   ]
  },
  {
   "cell_type": "code",
   "execution_count": 41,
   "id": "e4b060ec-f336-40bb-b0b2-182140ffd313",
   "metadata": {},
   "outputs": [],
   "source": [
    "df_1_t = test_df[test_df[187] == 1]\n",
    "df_2_t = test_df[test_df[187] == 2]\n",
    "df_3_t = test_df[test_df[187] == 3]\n",
    "df_4_t = test_df[test_df[187] == 4]"
   ]
  },
  {
   "cell_type": "code",
   "execution_count": 42,
   "id": "b8ecde70-e05e-43df-837d-5912e9d3b06c",
   "metadata": {},
   "outputs": [],
   "source": [
    "from sklearn.utils import resample\n",
    "\n",
    "df_1_upsample_t = resample(df_1, n_samples = 5000, replace = True, random_state = 123)\n",
    "df_2_upsample_t = resample(df_2, n_samples = 5000, replace = True, random_state = 123)\n",
    "df_3_upsample_t = resample(df_3, n_samples = 5000, replace = True, random_state = 123)\n",
    "df_4_upsample_t = resample(df_4, n_samples = 5000, replace = True, random_state = 123)\n",
    "df_0_t = test_df[test_df[187]==0].sample(n =5000, random_state=123)\n",
    "test_df = pd.concat([df_0_t, df_1_upsample_t, df_2_upsample_t, df_3_upsample_t, df_4_upsample_t])"
   ]
  },
  {
   "cell_type": "code",
   "execution_count": 43,
   "id": "4bf9174e-944a-43d3-8724-4376250531b8",
   "metadata": {},
   "outputs": [
    {
     "data": {
      "image/png": "[encoded data removed]",
      "text/plain": [
       "<Figure size 1000x1000 with 1 Axes>"
      ]
     },
     "metadata": {},
     "output_type": "display_data"
    }
   ],
   "source": [
    "plt.figure(figsize= (10,10))\n",
    "my_circle = plt.Circle((0,0), 0.7, color = 'white') \n",
    "plt.pie(test_df[187].value_counts(), labels=['Normal Beats','Supraventricular Ectopy Beats','Ventricular Ectopy Beats','Fusion Beats','Unclassifiable Beats'], autopct = '%0.0f%%', colors = ['red','orange','blue','magenta','cyan'])\n",
    "p = plt.gcf()\n",
    "p.gca().add_artist(my_circle)\n",
    "plt.show()"
   ]
  },
  {
   "cell_type": "markdown",
   "id": "56253c7c-c366-476d-bec2-47343c55122b",
   "metadata": {},
   "source": [
    "## Processing"
   ]
  },
  {
   "cell_type": "code",
   "execution_count": 45,
   "id": "4c8cfa81-a9c3-4e79-8240-da40a33475c2",
   "metadata": {},
   "outputs": [],
   "source": [
    "# split features and labels\n",
    "X_train = train_df.drop(columns = [187])\n",
    "y_train = train_df[187]"
   ]
  },
  {
   "cell_type": "code",
   "execution_count": 47,
   "id": "0352c582-4dd3-4151-a3d8-ca43b7f79779",
   "metadata": {},
   "outputs": [],
   "source": [
    "# filtering\n",
    "from scipy.signal import butter, filtfilt\n",
    "\n",
    "ecg_data = train_df\n",
    "ecg_signal = X_train\n",
    "class_labels = y_train\n",
    "sampling_rate = 125\n",
    "def butter_lowpass_filter(data, cutoff_freq, fs, order=5):\n",
    "    nyquist_freq = 0.5 * fs\n",
    "    normal_cutoff = cutoff_freq / nyquist_freq\n",
    "    b, a = butter(order, normal_cutoff, btype='low', analog=False)\n",
    "    filtered_data = filtfilt(b, a, data)\n",
    "    return filtered_data\n",
    "\n",
    "# Example usage:\n",
    "cutoff_frequency = 50  # Define the cutoff frequency in Hz\n",
    "filtered_ecg_signal = butter_lowpass_filter(ecg_signal, cutoff_frequency, sampling_rate)"
   ]
  },
  {
   "cell_type": "code",
   "execution_count": 48,
   "id": "cc04bbaa-997e-4507-9743-0d2ae309e48e",
   "metadata": {},
   "outputs": [
    {
     "name": "stdout",
     "output_type": "stream",
     "text": [
      "Before Normalization:\n",
      "            0         1         2         3         4         5         6    \\\n",
      "80646  1.000000  0.980880  0.600382  0.288719  0.181644  0.133843  0.114723   \n",
      "76808  0.000000  0.018006  0.056787  0.135734  0.218837  0.270083  0.326870   \n",
      "79759  0.000000  0.067395  0.131148  0.265938  0.404372  0.495446  0.557377   \n",
      "34449  1.000000  0.940141  0.753521  0.362676  0.154930  0.102113  0.070423   \n",
      "82406  0.845488  0.756490  0.653894  0.579728  0.489493  0.396786  0.307787   \n",
      "\n",
      "            7         8         9    ...  177  178  179  180  181  182  183  \\\n",
      "80646  0.091778  0.082218  0.070746  ...  0.0  0.0  0.0  0.0  0.0  0.0  0.0   \n",
      "76808  0.351801  0.405817  0.518006  ...  0.0  0.0  0.0  0.0  0.0  0.0  0.0   \n",
      "79759  0.615665  0.677596  0.744991  ...  0.0  0.0  0.0  0.0  0.0  0.0  0.0   \n",
      "34449  0.031690  0.007042  0.000000  ...  0.0  0.0  0.0  0.0  0.0  0.0  0.0   \n",
      "82406  0.228677  0.158220  0.122373  ...  0.0  0.0  0.0  0.0  0.0  0.0  0.0   \n",
      "\n",
      "       184  185  186  \n",
      "80646  0.0  0.0  0.0  \n",
      "76808  0.0  0.0  0.0  \n",
      "79759  0.0  0.0  0.0  \n",
      "34449  0.0  0.0  0.0  \n",
      "82406  0.0  0.0  0.0  \n",
      "\n",
      "[5 rows x 187 columns]\n",
      "After Normalization:\n",
      "[-0.63168238  0.02333511  1.1068417  ... -0.36334828 -0.47853169\n",
      " -0.54738713]\n"
     ]
    }
   ],
   "source": [
    "# Spliting the training dataset into train and valid\n",
    "from sklearn.preprocessing import StandardScaler\n",
    "from sklearn.model_selection import train_test_split\n",
    "\n",
    "\n",
    "# Split the training data into training and validation sets\n",
    "X_train, X_valid, y_train, y_valid = train_test_split(X_train, y_train, test_size=0.2, random_state=42)\n",
    "\n",
    "# Separate features and target variable for test dataset\n",
    "X_test = test_df.drop(columns=[187])\n",
    "y_test = test_df[187]\n",
    "\n",
    "# Initialize the StandardScaler\n",
    "scaler = StandardScaler()\n",
    "\n",
    "# Fit the scaler to the training data and transform it\n",
    "X_train_normalized = scaler.fit_transform(X_train)\n",
    "# Transform the valid data using the fitted scaler\n",
    "X_valid_normalized = scaler.transform(X_valid)\n",
    "# Transform the test data using the fitted scaler\n",
    "X_test_normalized = scaler.transform(X_test)\n",
    "\n",
    "print(\"Before Normalization:\")\n",
    "print(X_train.head(5))\n",
    "\n",
    "print(\"After Normalization:\")\n",
    "print(X_train_normalized[:, 5])"
   ]
  },
  {
   "cell_type": "markdown",
   "id": "81795c1c-0086-4149-8823-da93c197cc3c",
   "metadata": {},
   "source": [
    "### fter resampling"
   ]
  },
  {
   "cell_type": "code",
   "execution_count": 49,
   "id": "9c32d6ed-122b-4635-bba5-ba2ae7dba07b",
   "metadata": {},
   "outputs": [
    {
     "data": {
      "text/html": [
       "<div>\n",
       "<style scoped>\n",
       "    .dataframe tbody tr th:only-of-type {\n",
       "        vertical-align: middle;\n",
       "    }\n",
       "\n",
       "    .dataframe tbody tr th {\n",
       "        vertical-align: top;\n",
       "    }\n",
       "\n",
       "    .dataframe thead th {\n",
       "        text-align: right;\n",
       "    }\n",
       "</style>\n",
       "<table border=\"1\" class=\"dataframe\">\n",
       "  <thead>\n",
       "    <tr style=\"text-align: right;\">\n",
       "      <th></th>\n",
       "      <th>0</th>\n",
       "      <th>1</th>\n",
       "      <th>2</th>\n",
       "      <th>3</th>\n",
       "      <th>4</th>\n",
       "      <th>5</th>\n",
       "      <th>6</th>\n",
       "      <th>7</th>\n",
       "      <th>8</th>\n",
       "      <th>9</th>\n",
       "      <th>...</th>\n",
       "      <th>178</th>\n",
       "      <th>179</th>\n",
       "      <th>180</th>\n",
       "      <th>181</th>\n",
       "      <th>182</th>\n",
       "      <th>183</th>\n",
       "      <th>184</th>\n",
       "      <th>185</th>\n",
       "      <th>186</th>\n",
       "      <th>187</th>\n",
       "    </tr>\n",
       "  </thead>\n",
       "  <tbody>\n",
       "    <tr>\n",
       "      <th>14967</th>\n",
       "      <td>1.0</td>\n",
       "      <td>0.647702</td>\n",
       "      <td>0.039387</td>\n",
       "      <td>0.004376</td>\n",
       "      <td>0.102845</td>\n",
       "      <td>0.063457</td>\n",
       "      <td>0.067834</td>\n",
       "      <td>0.048140</td>\n",
       "      <td>0.045952</td>\n",
       "      <td>0.045952</td>\n",
       "      <td>...</td>\n",
       "      <td>0.0</td>\n",
       "      <td>0.0</td>\n",
       "      <td>0.0</td>\n",
       "      <td>0.0</td>\n",
       "      <td>0.0</td>\n",
       "      <td>0.0</td>\n",
       "      <td>0.0</td>\n",
       "      <td>0.0</td>\n",
       "      <td>0.0</td>\n",
       "      <td>0.0</td>\n",
       "    </tr>\n",
       "    <tr>\n",
       "      <th>71482</th>\n",
       "      <td>1.0</td>\n",
       "      <td>0.946619</td>\n",
       "      <td>0.651246</td>\n",
       "      <td>0.330961</td>\n",
       "      <td>0.000000</td>\n",
       "      <td>0.067616</td>\n",
       "      <td>0.092527</td>\n",
       "      <td>0.163701</td>\n",
       "      <td>0.192171</td>\n",
       "      <td>0.177936</td>\n",
       "      <td>...</td>\n",
       "      <td>0.0</td>\n",
       "      <td>0.0</td>\n",
       "      <td>0.0</td>\n",
       "      <td>0.0</td>\n",
       "      <td>0.0</td>\n",
       "      <td>0.0</td>\n",
       "      <td>0.0</td>\n",
       "      <td>0.0</td>\n",
       "      <td>0.0</td>\n",
       "      <td>0.0</td>\n",
       "    </tr>\n",
       "    <tr>\n",
       "      <th>23543</th>\n",
       "      <td>1.0</td>\n",
       "      <td>0.855967</td>\n",
       "      <td>0.302469</td>\n",
       "      <td>0.041152</td>\n",
       "      <td>0.185185</td>\n",
       "      <td>0.160494</td>\n",
       "      <td>0.098765</td>\n",
       "      <td>0.092593</td>\n",
       "      <td>0.109053</td>\n",
       "      <td>0.088477</td>\n",
       "      <td>...</td>\n",
       "      <td>0.0</td>\n",
       "      <td>0.0</td>\n",
       "      <td>0.0</td>\n",
       "      <td>0.0</td>\n",
       "      <td>0.0</td>\n",
       "      <td>0.0</td>\n",
       "      <td>0.0</td>\n",
       "      <td>0.0</td>\n",
       "      <td>0.0</td>\n",
       "      <td>0.0</td>\n",
       "    </tr>\n",
       "    <tr>\n",
       "      <th>9174</th>\n",
       "      <td>1.0</td>\n",
       "      <td>0.838806</td>\n",
       "      <td>0.738806</td>\n",
       "      <td>0.641791</td>\n",
       "      <td>0.604478</td>\n",
       "      <td>0.583582</td>\n",
       "      <td>0.580597</td>\n",
       "      <td>0.580597</td>\n",
       "      <td>0.591045</td>\n",
       "      <td>0.577612</td>\n",
       "      <td>...</td>\n",
       "      <td>0.0</td>\n",
       "      <td>0.0</td>\n",
       "      <td>0.0</td>\n",
       "      <td>0.0</td>\n",
       "      <td>0.0</td>\n",
       "      <td>0.0</td>\n",
       "      <td>0.0</td>\n",
       "      <td>0.0</td>\n",
       "      <td>0.0</td>\n",
       "      <td>0.0</td>\n",
       "    </tr>\n",
       "    <tr>\n",
       "      <th>42319</th>\n",
       "      <td>1.0</td>\n",
       "      <td>0.720257</td>\n",
       "      <td>0.019293</td>\n",
       "      <td>0.106109</td>\n",
       "      <td>0.073955</td>\n",
       "      <td>0.086817</td>\n",
       "      <td>0.070740</td>\n",
       "      <td>0.077170</td>\n",
       "      <td>0.070740</td>\n",
       "      <td>0.083601</td>\n",
       "      <td>...</td>\n",
       "      <td>0.0</td>\n",
       "      <td>0.0</td>\n",
       "      <td>0.0</td>\n",
       "      <td>0.0</td>\n",
       "      <td>0.0</td>\n",
       "      <td>0.0</td>\n",
       "      <td>0.0</td>\n",
       "      <td>0.0</td>\n",
       "      <td>0.0</td>\n",
       "      <td>0.0</td>\n",
       "    </tr>\n",
       "  </tbody>\n",
       "</table>\n",
       "<p>5 rows × 188 columns</p>\n",
       "</div>"
      ],
      "text/plain": [
       "       0         1         2         3         4         5         6    \\\n",
       "14967  1.0  0.647702  0.039387  0.004376  0.102845  0.063457  0.067834   \n",
       "71482  1.0  0.946619  0.651246  0.330961  0.000000  0.067616  0.092527   \n",
       "23543  1.0  0.855967  0.302469  0.041152  0.185185  0.160494  0.098765   \n",
       "9174   1.0  0.838806  0.738806  0.641791  0.604478  0.583582  0.580597   \n",
       "42319  1.0  0.720257  0.019293  0.106109  0.073955  0.086817  0.070740   \n",
       "\n",
       "            7         8         9    ...  178  179  180  181  182  183  184  \\\n",
       "14967  0.048140  0.045952  0.045952  ...  0.0  0.0  0.0  0.0  0.0  0.0  0.0   \n",
       "71482  0.163701  0.192171  0.177936  ...  0.0  0.0  0.0  0.0  0.0  0.0  0.0   \n",
       "23543  0.092593  0.109053  0.088477  ...  0.0  0.0  0.0  0.0  0.0  0.0  0.0   \n",
       "9174   0.580597  0.591045  0.577612  ...  0.0  0.0  0.0  0.0  0.0  0.0  0.0   \n",
       "42319  0.077170  0.070740  0.083601  ...  0.0  0.0  0.0  0.0  0.0  0.0  0.0   \n",
       "\n",
       "       185  186  187  \n",
       "14967  0.0  0.0  0.0  \n",
       "71482  0.0  0.0  0.0  \n",
       "23543  0.0  0.0  0.0  \n",
       "9174   0.0  0.0  0.0  \n",
       "42319  0.0  0.0  0.0  \n",
       "\n",
       "[5 rows x 188 columns]"
      ]
     },
     "execution_count": 49,
     "metadata": {},
     "output_type": "execute_result"
    }
   ],
   "source": [
    "train_df.head()\n"
   ]
  },
  {
   "cell_type": "code",
   "execution_count": 51,
   "id": "370cb6f4-8f53-474a-b610-d8f2a2256e6d",
   "metadata": {},
   "outputs": [
    {
     "data": {
      "text/plain": [
       "(100000, 188)"
      ]
     },
     "execution_count": 51,
     "metadata": {},
     "output_type": "execute_result"
    }
   ],
   "source": [
    "train_df.shape\n"
   ]
  },
  {
   "cell_type": "code",
   "execution_count": 52,
   "id": "05f659d2-9770-4e2d-9882-bfaddbb9433e",
   "metadata": {},
   "outputs": [
    {
     "data": {
      "text/plain": [
       "(25000, 188)"
      ]
     },
     "execution_count": 52,
     "metadata": {},
     "output_type": "execute_result"
    }
   ],
   "source": [
    "test_df.shape"
   ]
  },
  {
   "cell_type": "markdown",
   "id": "66d0dc78-df2d-49ff-9297-0d2347b1f3d7",
   "metadata": {},
   "source": [
    "# SVM Model "
   ]
  },
  {
   "cell_type": "code",
   "execution_count": 54,
   "id": "1eaa4168-2efc-452f-aa7d-9ad649f2a881",
   "metadata": {},
   "outputs": [
    {
     "name": "stdout",
     "output_type": "stream",
     "text": [
      "Validation Accuracy: 0.94495\n",
      "Test Accuracy: 0.94568\n"
     ]
    }
   ],
   "source": [
    "from sklearn import svm\n",
    "from sklearn.metrics import accuracy_score\n",
    "\n",
    "# Create the SVM classifier\n",
    "svm_classifier = svm.SVC(kernel='rbf', random_state=42)\n",
    "\n",
    "# Train the classifier on the normalized training data\n",
    "svm_classifier.fit(X_train_normalized, y_train)\n",
    "\n",
    "# Make predictions on the normalized validation set\n",
    "y_pred_valid = svm_classifier.predict(X_valid_normalized)\n",
    "\n",
    "# Calculate accuracy on the validation set\n",
    "accuracy_valid = accuracy_score(y_valid, y_pred_valid)\n",
    "print(\"Validation Accuracy:\", accuracy_valid)\n",
    "\n",
    "# Make predictions on the normalized test set\n",
    "y_pred_test = svm_classifier.predict(X_test_normalized)\n",
    "\n",
    "# Calculate accuracy on the test set\n",
    "accuracy_test = accuracy_score(y_test, y_pred_test)\n",
    "print(\"Test Accuracy:\", accuracy_test)"
   ]
  },
  {
   "cell_type": "markdown",
   "id": "035de969-015e-438f-81c8-c44984617f14",
   "metadata": {},
   "source": [
    "# Random Forest Model"
   ]
  },
  {
   "cell_type": "code",
   "execution_count": 55,
   "id": "58d26783-c7b3-4ffe-80d1-2cccc0f27597",
   "metadata": {},
   "outputs": [
    {
     "name": "stdout",
     "output_type": "stream",
     "text": [
      "Validation Accuracy: 0.99665\n",
      "Test Accuracy: 0.9974\n"
     ]
    }
   ],
   "source": [
    "from sklearn.ensemble import RandomForestClassifier\n",
    "from sklearn.metrics import accuracy_score\n",
    "\n",
    "# Initialize the Random Forest classifier\n",
    "rf_classifier = RandomForestClassifier(n_estimators=50, random_state=123)\n",
    "\n",
    "# Train the classifier using extracted features and corresponding labels\n",
    "rf_classifier.fit(X_train_normalized, y_train)\n",
    "\n",
    "# Predict labels for validation data\n",
    "y_pred_valid = rf_classifier.predict(X_valid_normalized)\n",
    "\n",
    "# Calculate accuracy on the validation set\n",
    "accuracy_valid = accuracy_score(y_valid, y_pred_valid)\n",
    "print(\"Validation Accuracy:\", accuracy_valid)\n",
    "\n",
    "# Predict labels for test data\n",
    "y_pred_test = rf_classifier.predict(X_test_normalized)\n",
    "\n",
    "# Calculate accuracy on the test set\n",
    "accuracy_test = accuracy_score(y_test, y_pred_test)\n",
    "print(\"Test Accuracy:\", accuracy_test)"
   ]
  },
  {
   "cell_type": "markdown",
   "id": "b0bd034c-c0a5-452c-bdfe-6d06da1c0e21",
   "metadata": {},
   "source": [
    "# Decision Tree Model"
   ]
  },
  {
   "cell_type": "code",
   "execution_count": 56,
   "id": "7a5d07c9-545e-4254-8e49-3579ba51428d",
   "metadata": {},
   "outputs": [
    {
     "name": "stdout",
     "output_type": "stream",
     "text": [
      "Validation Accuracy: 0.98505\n",
      "Test Accuracy: 0.98592\n"
     ]
    }
   ],
   "source": [
    "from sklearn.tree import DecisionTreeClassifier\n",
    "from sklearn.metrics import accuracy_score\n",
    "\n",
    "# Create the Decision Tree classifier\n",
    "clf_dt = DecisionTreeClassifier(random_state=42)\n",
    "\n",
    "# Train the classifier on the normalized training data\n",
    "clf_dt.fit(X_train_normalized, y_train)\n",
    "\n",
    "# Make predictions on the normalized validation set\n",
    "y_pred_valid = clf_dt.predict(X_valid_normalized)\n",
    "\n",
    "# Calculate accuracy on the validation set\n",
    "accuracy_valid = accuracy_score(y_valid, y_pred_valid)\n",
    "print(\"Validation Accuracy:\", accuracy_valid)\n",
    "\n",
    "# Make predictions on the normalized test set\n",
    "y_pred_test = clf_dt.predict(X_test_normalized)\n",
    "\n",
    "# Calculate accuracy on the test set\n",
    "accuracy_test = accuracy_score(y_test, y_pred_test)\n",
    "print(\"Test Accuracy:\", accuracy_test)"
   ]
  },
  {
   "cell_type": "markdown",
   "id": "24101ce2-0c20-40c4-b36b-91d8b4974a48",
   "metadata": {},
   "source": [
    "### voting classifier "
   ]
  },
  {
   "cell_type": "code",
   "execution_count": 57,
   "id": "b2fe2382-c93a-48c9-8552-cf23ccdeb27f",
   "metadata": {},
   "outputs": [
    {
     "name": "stdout",
     "output_type": "stream",
     "text": [
      "Validation Accuracy: 0.99515\n",
      "Test Accuracy: 0.99588\n"
     ]
    }
   ],
   "source": [
    "from sklearn.ensemble import VotingClassifier\n",
    "from sklearn.metrics import accuracy_score\n",
    "\n",
    "# Create the voting ensemble\n",
    "voting_clf = VotingClassifier(estimators=[('decision_tree', clf_dt), ('rf', rf_classifier), ('support_vector_machine', svm_classifier)], voting='hard')\n",
    "\n",
    "# Train the voting ensemble on the normalized training data\n",
    "voting_clf.fit(X_train_normalized, y_train)\n",
    "\n",
    "# Make predictions on the normalized validation set\n",
    "y_pred_valid = voting_clf.predict(X_valid_normalized)\n",
    "\n",
    "# Calculate accuracy on the validation set\n",
    "accuracy_valid = accuracy_score(y_valid, y_pred_valid)\n",
    "print(\"Validation Accuracy:\", accuracy_valid)\n",
    "\n",
    "# Make predictions on the normalized test set\n",
    "y_pred_test = voting_clf.predict(X_test_normalized)\n",
    "\n",
    "# Calculate accuracy on the test set\n",
    "accuracy_test = accuracy_score(y_test, y_pred_test)\n",
    "print(\"Test Accuracy:\", accuracy_test)"
   ]
  },
  {
   "cell_type": "code",
   "execution_count": null,
   "id": "ff4f7921-c28c-4e2a-a575-69876fb0da96",
   "metadata": {},
   "outputs": [],
   "source": []
  }
 ],
 "metadata": {
  "kernelspec": {
   "display_name": "Python 3 (ipykernel)",
   "language": "python",
   "name": "python3"
  },
  "language_info": {
   "codemirror_mode": {
    "name": "ipython",
    "version": 3
   },
   "file_extension": ".py",
   "mimetype": "text/x-python",
   "name": "python",
   "nbconvert_exporter": "python",
   "pygments_lexer": "ipython3",
   "version": "3.11.7"
  }
 },
 "nbformat": 4,
 "nbformat_minor": 5
}
